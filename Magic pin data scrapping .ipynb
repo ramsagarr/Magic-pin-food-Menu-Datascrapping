{
 "cells": [
  {
   "cell_type": "code",
   "execution_count": 11,
   "id": "6397720b",
   "metadata": {},
   "outputs": [
    {
     "name": "stdout",
     "output_type": "stream",
     "text": [
      "Data has been exported to final.csv\n"
     ]
    }
   ],
   "source": [
    "from csv import writer\n",
    "from bs4 import BeautifulSoup\n",
    "import requests\n",
    "\n",
    "page = requests.get(\"https://magicpin.in/New-Delhi/Paharganj/Restaurant/Eatfit/store/61a193/delivery/\").text\n",
    "soup = BeautifulSoup(page, 'lxml')\n",
    "results = soup.find_all(\"article\", class_=\"categoryListing\")\n",
    "\n",
    "# Open a CSV file in write mode\n",
    "with open('final.csv', 'w', newline='', encoding='utf-8') as csvfile:\n",
    "    # Create a CSV writer\n",
    "    csvwriter = csv.writer(csvfile)\n",
    "\n",
    "    # Write header row\n",
    "    csvwriter.writerow(['Category', 'Menu', 'Price'])\n",
    "\n",
    "    # Loop through each result\n",
    "    for result in results:\n",
    "        category = result.find(\"h4\", class_=\"categoryHeading\")\n",
    "        menu = result.find_all(\"a\", class_=\"itemName\")\n",
    "        price = result.find(\"span\", class_=\"itemPrice\")\n",
    "\n",
    "        # Initialize empty lists to store menu items and prices\n",
    "        menu_items = []\n",
    "        prices = []\n",
    "\n",
    "        if category:\n",
    "            category_text = category.text.strip()\n",
    "\n",
    "        if menu:\n",
    "            menu_items = [item.text.strip() for item in menu]\n",
    "\n",
    "        if price:\n",
    "            price_text = price.text.strip()\n",
    "\n",
    "        # Write a row to the CSV file for each menu item\n",
    "        for menu_item in menu_items:\n",
    "            csvwriter.writerow([category_text, menu_item, price_text])\n",
    "\n",
    "print(\"Data has been exported to final.csv\")\n",
    "\n"
   ]
  },
  {
   "cell_type": "code",
   "execution_count": null,
   "id": "2d8d77f9",
   "metadata": {},
   "outputs": [],
   "source": []
  }
 ],
 "metadata": {
  "kernelspec": {
   "display_name": "Python 3 (ipykernel)",
   "language": "python",
   "name": "python3"
  },
  "language_info": {
   "codemirror_mode": {
    "name": "ipython",
    "version": 3
   },
   "file_extension": ".py",
   "mimetype": "text/x-python",
   "name": "python",
   "nbconvert_exporter": "python",
   "pygments_lexer": "ipython3",
   "version": "3.10.9"
  }
 },
 "nbformat": 4,
 "nbformat_minor": 5
}
